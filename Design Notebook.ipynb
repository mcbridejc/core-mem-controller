{
 "cells": [
  {
   "cell_type": "markdown",
   "metadata": {},
   "source": [
    "# Setup Notebook Environment\n"
   ]
  },
  {
   "cell_type": "code",
   "execution_count": 2,
   "metadata": {},
   "outputs": [
    {
     "name": "stdout",
     "output_type": "stream",
     "text": [
      "Compiling /Users/jeff/dev/coremem/core-mem-controller/Main.sc"
     ]
    },
    {
     "name": "stderr",
     "output_type": "stream",
     "text": [
      "Downloading https://repo1.maven.org/maven2/edu/berkeley/cs/rocket-dsptools_2.12/1.2-020719-SNAPSHOT/rocket-dsptools_2.12-1.2-020719-SNAPSHOT.pom\n",
      "Downloading https://repo1.maven.org/maven2/edu/berkeley/cs/rocket-dsptools_2.12/1.2-020719-SNAPSHOT/rocket-dsptools_2.12-1.2-020719-SNAPSHOT.pom.sha1\n",
      "Downloading https://repo1.maven.org/maven2/edu/berkeley/cs/rocket-dsptools_2.12/1.2-020719-SNAPSHOT/maven-metadata.xml\n",
      "Downloading https://repo1.maven.org/maven2/edu/berkeley/cs/rocket-dsptools_2.12/1.2-020719-SNAPSHOT/maven-metadata.xml.sha1\n",
      "Downloading https://repo1.maven.org/maven2/edu/berkeley/cs/chisel3_2.12/3.2-020719-SNAPSHOT/chisel3_2.12-3.2-020719-SNAPSHOT.pom\n",
      "Downloading https://repo1.maven.org/maven2/edu/berkeley/cs/rocketchip_2.12/1.2-020719-SNAPSHOT/rocketchip_2.12-1.2-020719-SNAPSHOT.pom.sha1\n",
      "Downloading https://repo1.maven.org/maven2/edu/berkeley/cs/dsptools_2.12/1.2-020719-SNAPSHOT/dsptools_2.12-1.2-020719-SNAPSHOT.pom.sha1\n",
      "Downloading https://repo1.maven.org/maven2/edu/berkeley/cs/chisel-iotesters_2.12/1.3-020719-SNAPSHOT/chisel-iotesters_2.12-1.3-020719-SNAPSHOT.pom.sha1\n",
      "Downloading https://repo1.maven.org/maven2/edu/berkeley/cs/dsptools_2.12/1.2-020719-SNAPSHOT/dsptools_2.12-1.2-020719-SNAPSHOT.pom\n",
      "Downloading https://repo1.maven.org/maven2/edu/berkeley/cs/chisel3_2.12/3.2-020719-SNAPSHOT/chisel3_2.12-3.2-020719-SNAPSHOT.pom.sha1\n",
      "Downloading https://repo1.maven.org/maven2/edu/berkeley/cs/rocketchip_2.12/1.2-020719-SNAPSHOT/rocketchip_2.12-1.2-020719-SNAPSHOT.pom\n",
      "Downloading https://repo1.maven.org/maven2/edu/berkeley/cs/chisel-iotesters_2.12/1.3-020719-SNAPSHOT/chisel-iotesters_2.12-1.3-020719-SNAPSHOT.pom\n",
      "Downloading https://repo1.maven.org/maven2/edu/berkeley/cs/rocketchip_2.12/1.2-020719-SNAPSHOT/maven-metadata.xml.sha1\n",
      "Downloading https://repo1.maven.org/maven2/edu/berkeley/cs/rocketchip_2.12/1.2-020719-SNAPSHOT/maven-metadata.xml\n",
      "Downloading https://repo1.maven.org/maven2/edu/berkeley/cs/dsptools_2.12/1.2-020719-SNAPSHOT/maven-metadata.xml\n",
      "Downloading https://repo1.maven.org/maven2/edu/berkeley/cs/chisel-iotesters_2.12/1.3-020719-SNAPSHOT/maven-metadata.xml\n",
      "Downloading https://repo1.maven.org/maven2/edu/berkeley/cs/dsptools_2.12/1.2-020719-SNAPSHOT/maven-metadata.xml.sha1\n",
      "Downloading https://repo1.maven.org/maven2/edu/berkeley/cs/chisel-iotesters_2.12/1.3-020719-SNAPSHOT/maven-metadata.xml.sha1\n",
      "Downloading https://repo1.maven.org/maven2/edu/berkeley/cs/chisel3_2.12/3.2-020719-SNAPSHOT/maven-metadata.xml\n",
      "Downloading https://repo1.maven.org/maven2/edu/berkeley/cs/chisel3_2.12/3.2-020719-SNAPSHOT/maven-metadata.xml.sha1\n",
      "Downloading https://repo1.maven.org/maven2/edu/berkeley/cs/rocket-macros_2.12/1.2-020719-SNAPSHOT/rocket-macros_2.12-1.2-020719-SNAPSHOT.pom\n",
      "Downloading https://repo1.maven.org/maven2/edu/berkeley/cs/firrtl-interpreter_2.12/1.2-020719-SNAPSHOT/firrtl-interpreter_2.12-1.2-020719-SNAPSHOT.pom\n",
      "Downloading https://repo1.maven.org/maven2/edu/berkeley/cs/rocket-macros_2.12/1.2-020719-SNAPSHOT/rocket-macros_2.12-1.2-020719-SNAPSHOT.pom.sha1\n",
      "Downloading https://repo1.maven.org/maven2/edu/berkeley/cs/firrtl-interpreter_2.12/1.2-020719-SNAPSHOT/firrtl-interpreter_2.12-1.2-020719-SNAPSHOT.pom.sha1\n",
      "Downloading https://repo1.maven.org/maven2/edu/berkeley/cs/hardfloat_2.12/1.2-020719-SNAPSHOT/hardfloat_2.12-1.2-020719-SNAPSHOT.pom.sha1\n",
      "Downloading https://repo1.maven.org/maven2/edu/berkeley/cs/hardfloat_2.12/1.2-020719-SNAPSHOT/hardfloat_2.12-1.2-020719-SNAPSHOT.pom\n",
      "Downloading https://repo1.maven.org/maven2/edu/berkeley/cs/firrtl_2.12/1.2-020719-SNAPSHOT/firrtl_2.12-1.2-020719-SNAPSHOT.pom\n",
      "Downloading https://repo1.maven.org/maven2/edu/berkeley/cs/firrtl_2.12/1.2-020719-SNAPSHOT/firrtl_2.12-1.2-020719-SNAPSHOT.pom.sha1\n",
      "Downloading https://repo1.maven.org/maven2/edu/berkeley/cs/treadle_2.12/1.1-020719-SNAPSHOT/treadle_2.12-1.1-020719-SNAPSHOT.pom\n",
      "Downloading https://repo1.maven.org/maven2/edu/berkeley/cs/treadle_2.12/1.1-020719-SNAPSHOT/treadle_2.12-1.1-020719-SNAPSHOT.pom.sha1\n",
      "Downloading https://repo1.maven.org/maven2/edu/berkeley/cs/firrtl-interpreter_2.12/1.2-020719-SNAPSHOT/maven-metadata.xml\n",
      "Downloading https://repo1.maven.org/maven2/edu/berkeley/cs/firrtl-interpreter_2.12/1.2-020719-SNAPSHOT/maven-metadata.xml.sha1\n",
      "Downloading https://repo1.maven.org/maven2/edu/berkeley/cs/rocket-macros_2.12/1.2-020719-SNAPSHOT/maven-metadata.xml\n",
      "Downloading https://repo1.maven.org/maven2/edu/berkeley/cs/rocket-macros_2.12/1.2-020719-SNAPSHOT/maven-metadata.xml.sha1\n",
      "Downloading https://repo1.maven.org/maven2/edu/berkeley/cs/hardfloat_2.12/1.2-020719-SNAPSHOT/maven-metadata.xml.sha1\n",
      "Downloading https://repo1.maven.org/maven2/edu/berkeley/cs/hardfloat_2.12/1.2-020719-SNAPSHOT/maven-metadata.xml\n",
      "Downloading https://repo1.maven.org/maven2/edu/berkeley/cs/treadle_2.12/1.1-020719-SNAPSHOT/maven-metadata.xml.sha1\n",
      "Downloading https://repo1.maven.org/maven2/edu/berkeley/cs/treadle_2.12/1.1-020719-SNAPSHOT/maven-metadata.xml\n",
      "Downloading https://repo1.maven.org/maven2/edu/berkeley/cs/firrtl_2.12/1.2-020719-SNAPSHOT/maven-metadata.xml\n",
      "Downloading https://repo1.maven.org/maven2/edu/berkeley/cs/firrtl_2.12/1.2-020719-SNAPSHOT/maven-metadata.xml.sha1\n",
      "Downloading https://repo1.maven.org/maven2/net/sourceforge/f2j/arpack_combined_all/0.1/arpack_combined_all-0.1-sources.jar\n",
      "Downloading https://repo1.maven.org/maven2/net/sourceforge/f2j/arpack_combined_all/0.1/arpack_combined_all-0.1-sources.jar.sha1\n"
     ]
    },
    {
     "name": "stdout",
     "output_type": "stream",
     "text": [
      "Compiling /Users/jeff/dev/coremem/core-mem-controller/Main.sc #2"
     ]
    },
    {
     "data": {
      "text/plain": [
       "\u001b[36mpath\u001b[39m: \u001b[32mString\u001b[39m = \u001b[32m\"/Users/jeff/dev/coremem/core-mem-controller/load-ivy.sc\"\u001b[39m"
      ]
     },
     "execution_count": 2,
     "metadata": {},
     "output_type": "execute_result"
    }
   ],
   "source": [
    "val path = System.getProperty(\"user.dir\") + \"/load-ivy.sc\"\n",
    "interp.load.module(ammonite.ops.Path(java.nio.file.FileSystems.getDefault().getPath(path)))\n"
   ]
  },
  {
   "cell_type": "code",
   "execution_count": 3,
   "metadata": {},
   "outputs": [
    {
     "data": {
      "text/plain": [
       "\u001b[32mimport \u001b[39m\u001b[36mchisel3._\n",
       "\u001b[39m\n",
       "\u001b[32mimport \u001b[39m\u001b[36mchisel3.util._\n",
       "\u001b[39m\n",
       "\u001b[32mimport \u001b[39m\u001b[36mchisel3.iotesters.{ChiselFlatSpec, Driver, PeekPokeTester}\u001b[39m"
      ]
     },
     "execution_count": 3,
     "metadata": {},
     "output_type": "execute_result"
    }
   ],
   "source": [
    "\n",
    "import chisel3._\n",
    "import chisel3.util._\n",
    "import chisel3.iotesters.{ChiselFlatSpec, Driver, PeekPokeTester}"
   ]
  },
  {
   "cell_type": "markdown",
   "metadata": {},
   "source": [
    "# Top level\n",
    "\n",
    "Instantiate the top level design module, and define the input ports"
   ]
  },
  {
   "cell_type": "code",
   "execution_count": 59,
   "metadata": {},
   "outputs": [
    {
     "data": {
      "text/plain": [
       "defined \u001b[32mclass\u001b[39m \u001b[36mCoreMem\u001b[39m"
      ]
     },
     "execution_count": 59,
     "metadata": {},
     "output_type": "execute_result"
    }
   ],
   "source": [
    "class CoreMem extends Module {\n",
    "    val io = IO(new Bundle {\n",
    "        // Control Bus\n",
    "        val slv_addr = Input(UInt(3.W))\n",
    "        val slv_rd = Input(Bool())\n",
    "        val slv_wr = Input(Bool())\n",
    "        val slv_data_o = Output(UInt(8.W))\n",
    "        val slv_data_i = Input(UInt(8.W))\n",
    "        val slv_data_t = Output(UInt(8.W))\n",
    "        val slv_ack = Output(Bool())\n",
    "        \n",
    "        // Core driver signals\n",
    "        val sense = Input(UInt(8.W))\n",
    "        val sense_thresh = Output(Bool())\n",
    "        val dir_f = Output(Bool())\n",
    "        val dir_r = Output(Bool())\n",
    "        val bit_drive_f = Output(UInt(8.W))\n",
    "        val bit_drive_r = Output(UInt(8.W))\n",
    "        val word_drive_f = Output(UInt(8.W))\n",
    "        val word_drive_r = Output(UInt(8.W))\n",
    "        val iset = Output(Bool())\n",
    "    })\n",
    "    \n",
    "    io.slv_data_o := 0.U\n",
    "    io.slv_data_t := 0xFF.U\n",
    "    io.slv_ack := 0.U\n",
    "    \n",
    "    io.iset := 0.U\n",
    "    io.sense_thresh := 0.U\n",
    "    io.dir_f := 0.U\n",
    "    io.dir_r := 0.U\n",
    "    io.bit_drive_r := 0.U\n",
    "    io.bit_drive_f := 0.U\n",
    "    io.word_drive_r := 0.U\n",
    "    io.word_drive_f := 0.U\n",
    "    \n",
    "//     def states = Map(\"idle\" -> 0, \"forward\" -> 1, \"forward-wait\" -> 2,\n",
    "//                      \"reverse\" -> 3, \"reverse-wait\" -> 4, \"ack\" -> 5)\n",
    "    \n",
    "    val idle :: forward :: forwardWait :: delay :: reverse :: reverseWait :: ack :: Nil = Enum(6)\n",
    "    \n",
    "    def PULSE_LENGTH = 100\n",
    "    \n",
    "    val next_state = UInt(3.W)\n",
    "    val state = RegInit(idle)\n",
    "    val drive_en = RegInit(false.B) \n",
    "    val drive_counter = RegInit(0.U(log2Ceil(PULSE_LENGTH).W))\n",
    "    \n",
    "    when(state === idle) {\n",
    "        when(io.slv_wr || io.slv_rd) {\n",
    "            next_state := forward\n",
    "        }.otherwise {\n",
    "            next_state := idle\n",
    "        }\n",
    "    }.elsewhen(state === forward) {\n",
    "        next_state := forwardWait\n",
    "    }.elsewhen(state === forwardWait) {\n",
    "        when(!drive_en) {\n",
    "            next_state := reverse\n",
    "        }.otherwise {\n",
    "            next_state := forwardWait\n",
    "        }\n",
    "    }.elsewhen(state === reverse) {\n",
    "        next_state := reverseWait\n",
    "    }.elsewhen(state === reverseWait) {\n",
    "        when(!drive_en) {\n",
    "            next_state := ack\n",
    "        }.otherwise {\n",
    "            next_state := reverseWait\n",
    "        }\n",
    "    }.elsewhen(state === ack) {\n",
    "        // Hold ack until RD/WR are de-asserted by master\n",
    "        when(!io.slv_rd && !io.slv_wr) {\n",
    "            next_state := idle\n",
    "        }.otherwise {\n",
    "            next_state := ack\n",
    "        }\n",
    "    }.otherwise {\n",
    "        next_state := idle\n",
    "    }\n",
    "    \n",
    "    state := next_state\n",
    "    \n",
    "    val delayed_capture = Module(new DelayedCapture(10))\n",
    "    \n",
    "    when(next_state === forward || next_state === reverse) {\n",
    "        drive_en := true.B\n",
    "        drive_counter := PULSE_LENGTH.U\n",
    "    }.otherwise {\n",
    "        when(drive_counter > 0.U) {\n",
    "            drive_counter := drive_counter - 1.U\n",
    "        }.otherwise {\n",
    "            drive_en := false.B\n",
    "        }\n",
    "    }\n",
    "    \n",
    "    \n",
    "    val dir_is_forward = state === forward || state === forwardWait\n",
    "    \n",
    "    // Drive bit lines\n",
    "    val write_value = UInt(8.W)\n",
    "    val read_value = UInt(8.W)\n",
    "    \n",
    "    when(io.slv_wr) {\n",
    "        // If writing, drive the data from the master bus\n",
    "        write_value := io.slv_data_i\n",
    "    }.otherwise {\n",
    "        // When reading, drive the data we just read\n",
    "        write_value := delayed_capture.io.out\n",
    "    }\n",
    "    \n",
    "    \n",
    "    io.bit_drive_f := 0.U\n",
    "    io.bit_drive_r := 0.U\n",
    "    when(drive_en) {\n",
    "        when(dir_is_forward) {\n",
    "            io.bit_drive_f := 0xff.U\n",
    "        }.otherwise {\n",
    "            io.bit_drive_r := write_value\n",
    "        }\n",
    "    }\n",
    "    \n",
    "    // Drive word line\n",
    "    io.word_drive_f := 0.U\n",
    "    io.word_drive_r := 0.U\n",
    "    when(drive_en) {\n",
    "        \n",
    "        when(dir_is_forward) {\n",
    "            io.word_drive_f := (1.U << io.slv_addr)\n",
    "        }.otherwise {\n",
    "            io.word_drive_r := (1.U << io.slv_addr)\n",
    "        }\n",
    "    }\n",
    "    \n",
    "    // Drive voltage thresholds\n",
    "    val PWM_WIDTH = 11\n",
    "    val PWM_CLKDIV = 1\n",
    "    val iset_pwm = new PwmOutput(PWM_CLKDIV, PWM_WIDTH)\n",
    "    val sense_thresh_pwm = new PwmOutput(PWM_CLKDIV, PWM_WIDTH)\n",
    "    \n",
    "    iset_pwm.io.duty := 0.U // TODO\n",
    "    io.iset := iset_pwm.io.pwm\n",
    "    sense_thresh_pwm.io.duty := 0.U // TODO\n",
    "    io.sense_thresh := sense_thresh_pwm.io.pwm\n",
    "    \n",
    "}"
   ]
  },
  {
   "cell_type": "code",
   "execution_count": 12,
   "metadata": {},
   "outputs": [
    {
     "name": "stdout",
     "output_type": "stream",
     "text": [
      "[\u001b[35minfo\u001b[0m] [0.001] Elaborating design...\n",
      "[\u001b[35minfo\u001b[0m] [0.008] Done elaborating.\n",
      "Total FIRRTL Compile Time: 183.2 ms\n",
      "module cmd10HelperCoreMem(\n",
      "  input        clock,\n",
      "  input        reset,\n",
      "  input  [2:0] io_slv_addr,\n",
      "  input        io_slv_rd,\n",
      "  input        io_slv_wr,\n",
      "  output [7:0] io_slv_data_o,\n",
      "  input  [7:0] io_slv_data_i,\n",
      "  output [7:0] io_slv_data_t,\n",
      "  output       io_slv_ack,\n",
      "  input  [7:0] io_sense,\n",
      "  output       io_sense_thresh,\n",
      "  output       io_dir_f,\n",
      "  output       io_dir_r,\n",
      "  output [7:0] io_bit_drive_f,\n",
      "  output [7:0] io_bit_drive_r,\n",
      "  output [7:0] io_word_drive_f,\n",
      "  output [7:0] io_word_drive_r,\n",
      "  output       io_iset\n",
      ");\n",
      "  assign io_slv_data_o = 8'h0; // @[cmd10.sc 24:19]\n",
      "  assign io_slv_data_t = 8'hff; // @[cmd10.sc 25:19]\n",
      "  assign io_slv_ack = 1'h0; // @[cmd10.sc 26:16]\n",
      "  assign io_sense_thresh = 1'h0; // @[cmd10.sc 29:21]\n",
      "  assign io_dir_f = 1'h0; // @[cmd10.sc 30:14]\n",
      "  assign io_dir_r = 1'h0; // @[cmd10.sc 31:14]\n",
      "  assign io_bit_drive_f = 8'h0; // @[cmd10.sc 33:20]\n",
      "  assign io_bit_drive_r = 8'h0; // @[cmd10.sc 32:20]\n",
      "  assign io_word_drive_f = 8'h0; // @[cmd10.sc 35:21]\n",
      "  assign io_word_drive_r = 8'h0; // @[cmd10.sc 34:21]\n",
      "  assign io_iset = 1'h0; // @[cmd10.sc 28:13]\n",
      "endmodule\n",
      "\n"
     ]
    }
   ],
   "source": [
    "println(getVerilog(new CoreMem))\n"
   ]
  },
  {
   "cell_type": "code",
   "execution_count": 45,
   "metadata": {},
   "outputs": [
    {
     "data": {
      "text/plain": [
       "defined \u001b[32mclass\u001b[39m \u001b[36mDelayedCapture\u001b[39m"
      ]
     },
     "execution_count": 45,
     "metadata": {},
     "output_type": "execute_result"
    }
   ],
   "source": [
    "class DelayedCapture(max_delay: Int, data_width: Int = 8) extends Module {\n",
    "    val delay_width = log2Ceil(max_delay)\n",
    "    val io = IO(new Bundle {\n",
    "        val capture_delay = Input(UInt(delay_width.W))\n",
    "        val trigger = Input(Bool())\n",
    "        val in = Input(UInt(data_width.W))\n",
    "        val out = Output(UInt(data_width.W))\n",
    "        val valid = Output(Bool())\n",
    "    })\n",
    "    \n",
    "    val running = RegInit(false.B)\n",
    "    val outReg = RegInit(0.U(data_width.W))\n",
    "    val counter = RegInit(0.U(delay_width.W))\n",
    "    val validReg = RegInit(false.B)\n",
    "    \n",
    "    io.out := outReg\n",
    "    io.valid := validReg\n",
    "    \n",
    "    def risingedge(x: Bool) = x && !RegNext(x)\n",
    "    \n",
    "    when(risingedge(io.trigger)) {\n",
    "        running := true.B\n",
    "    }\n",
    "    \n",
    "    validReg := false.B\n",
    "    \n",
    "    when(running) {\n",
    "        \n",
    "        val ovf = counter === (io.capture_delay - 1.U)\n",
    "        counter := counter + 1.U\n",
    "        when(ovf) {\n",
    "            counter := 0.U\n",
    "            running := false.B\n",
    "            validReg := true.B\n",
    "            outReg := io.in\n",
    "        }\n",
    "    }\n",
    "}"
   ]
  },
  {
   "cell_type": "code",
   "execution_count": 48,
   "metadata": {},
   "outputs": [
    {
     "data": {
      "text/plain": [
       "defined \u001b[32mclass\u001b[39m \u001b[36mDelayedCaptureTester\u001b[39m"
      ]
     },
     "execution_count": 48,
     "metadata": {},
     "output_type": "execute_result"
    }
   ],
   "source": [
    "class DelayedCaptureTester(c: DelayedCapture) extends PeekPokeTester(c) {\n",
    "    poke(c.io.capture_delay, 10)\n",
    "    poke(c.io.in, 0)\n",
    "    poke(c.io.trigger, 0)\n",
    "    step(1)\n",
    "    poke(c.io.trigger, 1)\n",
    "    \n",
    "    \n",
    "    for(i <- 1 to 10) {\n",
    "        expect(c.io.valid, false.B)\n",
    "        step(1)\n",
    "        poke(c.io.in, i)\n",
    "    }\n",
    "    \n",
    "    step(1)\n",
    "    \n",
    "    expect(c.io.valid, true.B)\n",
    "    expect(c.io.out, 10)\n",
    "    \n",
    "    step(1)\n",
    "    expect(c.io.valid, false.B)\n",
    "}"
   ]
  },
  {
   "cell_type": "code",
   "execution_count": 49,
   "metadata": {
    "collapsed": true
   },
   "outputs": [
    {
     "name": "stdout",
     "output_type": "stream",
     "text": [
      "[\u001b[35minfo\u001b[0m] [0.000] Elaborating design...\n",
      "[\u001b[35minfo\u001b[0m] [0.003] Done elaborating.\n",
      "Total FIRRTL Compile Time: 17.9 ms\n",
      "Total FIRRTL Compile Time: 16.4 ms\n",
      "End of dependency graph\n",
      "Circuit state created\n",
      "[\u001b[35minfo\u001b[0m] [0.000] SEED 1556836659215\n",
      "test cmd44HelperDelayedCapture Success: 13 tests passed in 18 cycles taking 0.013599 seconds\n",
      "[\u001b[35minfo\u001b[0m] [0.014] RAN 13 CYCLES PASSED\n"
     ]
    },
    {
     "data": {
      "text/plain": [
       "\u001b[36mworks\u001b[39m: \u001b[32mBoolean\u001b[39m = true"
      ]
     },
     "execution_count": 49,
     "metadata": {},
     "output_type": "execute_result"
    }
   ],
   "source": [
    "val works = iotesters.Driver(() => new DelayedCapture(10)) { c => new DelayedCaptureTester(c) }"
   ]
  },
  {
   "cell_type": "code",
   "execution_count": 51,
   "metadata": {},
   "outputs": [
    {
     "data": {
      "text/plain": [
       "defined \u001b[32mclass\u001b[39m \u001b[36mPwmOutput\u001b[39m"
      ]
     },
     "execution_count": 51,
     "metadata": {},
     "output_type": "execute_result"
    }
   ],
   "source": [
    "class PwmOutput(clk_divisor: Int, counter_width: Int) extends Module {\n",
    "    val io = IO(new Bundle {\n",
    "        val duty = Input(UInt(counter_width.W))\n",
    "        val pwm = Output(Bool())\n",
    "    })\n",
    "    \n",
    "    val slow_en = RegInit(false.B)\n",
    "    val div_counter = Counter(clk_divisor)\n",
    "    val pwm_counter = RegInit(0.U(counter_width.W))\n",
    "    \n",
    "    slow_en := false.B\n",
    "    \n",
    "    when(div_counter.inc()) {\n",
    "        slow_en := true.B\n",
    "    }\n",
    "    \n",
    "    when(slow_en) {\n",
    "        pwm_counter := pwm_counter + 1.U\n",
    "    }\n",
    "    \n",
    "    io.pwm := RegNext(pwm_counter < io.duty)\n",
    "}"
   ]
  },
  {
   "cell_type": "code",
   "execution_count": 58,
   "metadata": {},
   "outputs": [
    {
     "name": "stdout",
     "output_type": "stream",
     "text": [
      "[\u001b[35minfo\u001b[0m] [0.000] Elaborating design...\n",
      "[\u001b[35minfo\u001b[0m] [0.056] Done elaborating.\n",
      "Total FIRRTL Compile Time: 13.7 ms\n",
      "Total FIRRTL Compile Time: 12.3 ms\n",
      "End of dependency graph\n",
      "Circuit state created\n",
      "[\u001b[35minfo\u001b[0m] [0.000] SEED 1556841567774\n",
      "test cmd50HelperPwmOutput Success: 4096 tests passed in 16389 cycles taking 0.277462 seconds\n",
      "[\u001b[35minfo\u001b[0m] [0.277] RAN 16384 CYCLES PASSED\n"
     ]
    },
    {
     "data": {
      "text/plain": [
       "defined \u001b[32mclass\u001b[39m \u001b[36mPwmOutputTester\u001b[39m\n",
       "\u001b[36mclk_divisor\u001b[39m: \u001b[32mInt\u001b[39m = \u001b[32m4\u001b[39m\n",
       "\u001b[36mcounter_width\u001b[39m: \u001b[32mInt\u001b[39m = \u001b[32m12\u001b[39m\n",
       "\u001b[36mworks\u001b[39m: \u001b[32mBoolean\u001b[39m = true"
      ]
     },
     "execution_count": 58,
     "metadata": {},
     "output_type": "execute_result"
    }
   ],
   "source": [
    "class PwmOutputTester(c: PwmOutput, clk_divisor: Int, counter_width: Int) extends PeekPokeTester(c) {\n",
    "    val maxCount = math.pow(2, counter_width).toInt\n",
    "    val duty = maxCount / 4\n",
    "    poke(c.io.duty, duty)\n",
    "    \n",
    "    for(i <- 0 to maxCount-1) {\n",
    "        \n",
    "        step(clk_divisor)\n",
    "        if(i < duty) {\n",
    "            expect(c.io.pwm, true)\n",
    "        } else {\n",
    "            expect(c.io.pwm, false)\n",
    "        }\n",
    "    }\n",
    "}\n",
    "val clk_divisor = 4\n",
    "val counter_width = 12\n",
    "val works = iotesters.Driver(() => new PwmOutput(clk_divisor, counter_width)) { \n",
    "    c => new PwmOutputTester(c, clk_divisor, counter_width) \n",
    "}"
   ]
  },
  {
   "cell_type": "code",
   "execution_count": null,
   "metadata": {},
   "outputs": [],
   "source": []
  },
  {
   "cell_type": "code",
   "execution_count": 43,
   "metadata": {},
   "outputs": [
    {
     "name": "stdout",
     "output_type": "stream",
     "text": [
      "[\u001b[35minfo\u001b[0m] [0.000] Elaborating design...\n",
      "[\u001b[35minfo\u001b[0m] [0.004] Done elaborating.\n",
      "Total FIRRTL Compile Time: 24.1 ms\n",
      "module cmd36HelperDelayedCapture(\n",
      "  input        clock,\n",
      "  input        reset,\n",
      "  input        io_trigger,\n",
      "  input  [7:0] io_in,\n",
      "  output [7:0] io_out,\n",
      "  output       io_valid\n",
      ");\n",
      "  reg  running; // @[cmd36.sc 9:26]\n",
      "  reg [31:0] _RAND_0;\n",
      "  reg [7:0] outReg; // @[cmd36.sc 10:25]\n",
      "  reg [31:0] _RAND_1;\n",
      "  reg [3:0] value; // @[Counter.scala 26:33]\n",
      "  reg [31:0] _RAND_2;\n",
      "  reg  validReg; // @[cmd36.sc 12:27]\n",
      "  reg [31:0] _RAND_3;\n",
      "  reg  _T_1; // @[cmd36.sc 17:44]\n",
      "  reg [31:0] _RAND_4;\n",
      "  wire  _T_2; // @[cmd36.sc 17:36]\n",
      "  wire  _T_3; // @[cmd36.sc 17:33]\n",
      "  wire  _T_4; // @[Counter.scala 34:24]\n",
      "  wire [3:0] _T_6; // @[Counter.scala 35:22]\n",
      "  assign _T_2 = _T_1 == 1'h0; // @[cmd36.sc 17:36]\n",
      "  assign _T_3 = io_trigger & _T_2; // @[cmd36.sc 17:33]\n",
      "  assign _T_4 = value == 4'h9; // @[Counter.scala 34:24]\n",
      "  assign _T_6 = value + 4'h1; // @[Counter.scala 35:22]\n",
      "  assign io_out = outReg; // @[cmd36.sc 14:12]\n",
      "  assign io_valid = validReg; // @[cmd36.sc 15:14]\n",
      "`ifdef RANDOMIZE_GARBAGE_ASSIGN\n",
      "`define RANDOMIZE\n",
      "`endif\n",
      "`ifdef RANDOMIZE_INVALID_ASSIGN\n",
      "`define RANDOMIZE\n",
      "`endif\n",
      "`ifdef RANDOMIZE_REG_INIT\n",
      "`define RANDOMIZE\n",
      "`endif\n",
      "`ifdef RANDOMIZE_MEM_INIT\n",
      "`define RANDOMIZE\n",
      "`endif\n",
      "`ifndef RANDOM\n",
      "`define RANDOM $random\n",
      "`endif\n",
      "`ifdef RANDOMIZE\n",
      "  integer initvar;\n",
      "  initial begin\n",
      "    `ifdef INIT_RANDOM\n",
      "      `INIT_RANDOM\n",
      "    `endif\n",
      "    `ifndef VERILATOR\n",
      "      `ifdef RANDOMIZE_DELAY\n",
      "        #`RANDOMIZE_DELAY begin end\n",
      "      `else\n",
      "        #0.002 begin end\n",
      "      `endif\n",
      "    `endif\n",
      "  `ifdef RANDOMIZE_REG_INIT\n",
      "  _RAND_0 = {1{`RANDOM}};\n",
      "  running = _RAND_0[0:0];\n",
      "  `endif // RANDOMIZE_REG_INIT\n",
      "  `ifdef RANDOMIZE_REG_INIT\n",
      "  _RAND_1 = {1{`RANDOM}};\n",
      "  outReg = _RAND_1[7:0];\n",
      "  `endif // RANDOMIZE_REG_INIT\n",
      "  `ifdef RANDOMIZE_REG_INIT\n",
      "  _RAND_2 = {1{`RANDOM}};\n",
      "  value = _RAND_2[3:0];\n",
      "  `endif // RANDOMIZE_REG_INIT\n",
      "  `ifdef RANDOMIZE_REG_INIT\n",
      "  _RAND_3 = {1{`RANDOM}};\n",
      "  validReg = _RAND_3[0:0];\n",
      "  `endif // RANDOMIZE_REG_INIT\n",
      "  `ifdef RANDOMIZE_REG_INIT\n",
      "  _RAND_4 = {1{`RANDOM}};\n",
      "  _T_1 = _RAND_4[0:0];\n",
      "  `endif // RANDOMIZE_REG_INIT\n",
      "  end\n",
      "`endif // RANDOMIZE\n",
      "  always @(posedge clock) begin\n",
      "    if (reset) begin\n",
      "      running <= 1'h0;\n",
      "    end else begin\n",
      "      if (running) begin\n",
      "        if (_T_4) begin\n",
      "          running <= 1'h0;\n",
      "        end else begin\n",
      "          if (_T_3) begin\n",
      "            running <= 1'h1;\n",
      "          end\n",
      "        end\n",
      "      end else begin\n",
      "        if (_T_3) begin\n",
      "          running <= 1'h1;\n",
      "        end\n",
      "      end\n",
      "    end\n",
      "    if (reset) begin\n",
      "      outReg <= 8'h0;\n",
      "    end else begin\n",
      "      if (running) begin\n",
      "        if (_T_4) begin\n",
      "          outReg <= io_in;\n",
      "        end\n",
      "      end\n",
      "    end\n",
      "    if (reset) begin\n",
      "      value <= 4'h0;\n",
      "    end else begin\n",
      "      if (running) begin\n",
      "        if (_T_4) begin\n",
      "          value <= 4'h0;\n",
      "        end else begin\n",
      "          value <= _T_6;\n",
      "        end\n",
      "      end else begin\n",
      "        if (reset) begin\n",
      "          value <= 4'h0;\n",
      "        end\n",
      "      end\n",
      "    end\n",
      "    if (reset) begin\n",
      "      validReg <= 1'h0;\n",
      "    end else begin\n",
      "      if (running) begin\n",
      "        validReg <= _T_4;\n",
      "      end else begin\n",
      "        validReg <= 1'h0;\n",
      "      end\n",
      "    end\n",
      "    _T_1 <= io_trigger;\n",
      "  end\n",
      "endmodule\n",
      "\n"
     ]
    }
   ],
   "source": [
    "class BusStateMachine extends Module {\n",
    "    val io = IO(new Bundle {\n",
    "        val wr = Input(Bool())\n",
    "        val rd = Input(Bool())\n",
    "        val ack = Output(Bool())\n",
    "        \n",
    "        val pulse_trigger = Output(Bool())\n",
    "        val forward = Output(Bool())\n",
    "        val pulse_complete = Input(Bool())\n",
    "        \n",
    "    })\n",
    "}"
   ]
  },
  {
   "cell_type": "code",
   "execution_count": null,
   "metadata": {},
   "outputs": [],
   "source": []
  }
 ],
 "metadata": {
  "kernelspec": {
   "display_name": "Scala",
   "language": "scala",
   "name": "scala"
  },
  "language_info": {
   "codemirror_mode": "text/x-scala",
   "file_extension": ".scala",
   "mimetype": "text/x-scala",
   "name": "scala",
   "nbconvert_exporter": "script",
   "version": "2.12.8"
  }
 },
 "nbformat": 4,
 "nbformat_minor": 2
}
